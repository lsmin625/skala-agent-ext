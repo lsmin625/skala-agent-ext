{
 "cells": [
  {
   "cell_type": "markdown",
   "id": "1c113dc4",
   "metadata": {},
   "source": [
    "# LangGraph 워크플로우 설계\n",
    "\n",
    "## 상태 클래스(`state.py`) 정의"
   ]
  },
  {
   "cell_type": "code",
   "execution_count": null,
   "id": "c589d968",
   "metadata": {},
   "outputs": [],
   "source": [
    "from typing import Literal, TypedDict, Annotated\n",
    "\n",
    "def reduce_list(left: list, right: list) -> list:\n",
    "    \"\"\"두 리스트를 합칩니다.\"\"\"\n",
    "    return left + right\n",
    "\n",
    "# 애플리케이션 상태 모델 정의\n",
    "# 모든 필드를 선택적(total=False)으로 관리 => 상태 관리에 적합한 방식\n",
    "class AppState(TypedDict, total=False):\n",
    "    \"\"\"\n",
    "    애플리케이션의 전체 상태를 관리하는 중앙 저장소.\n",
    "    Annotated를 사용하여 각 필드에 대한 설명을 타입 힌트에 포함합니다.\n",
    "    \"\"\"\n",
    "    \n",
    "    # --- 공통 및 초기 필드 ---\n",
    "    user_input: Annotated[str, \"사용자의 현재 입력값\"]\n",
    "    chat_history: Annotated[list[tuple[str, str]], \"UI용 대화 기록 리스트\", reduce_list]\n",
    "    role: Annotated[Literal[\"student\", \"professor\", \"unknown\"], \"현재 사용자의 역할\"]\n"
   ]
  },
  {
   "cell_type": "markdown",
   "id": "c17971e5",
   "metadata": {},
   "source": [
    "## 노드 함수 정의\n",
    "\n",
    "### 응시자 검증 노드 함수 (`applicant.py`)"
   ]
  },
  {
   "cell_type": "code",
   "execution_count": null,
   "id": "b1944678",
   "metadata": {},
   "outputs": [],
   "source": [
    "def applicant_validator(state: AppState) -> AppState:\n",
    "    \"\"\"응시자 정보 검증 & 중복 응시 확인\"\"\"\n",
    "    pass"
   ]
  },
  {
   "cell_type": "markdown",
   "id": "5b0ebd5c",
   "metadata": {},
   "source": [
    "### 퀴즈 출제 노드 함수 (`quiz.py`)"
   ]
  },
  {
   "cell_type": "code",
   "execution_count": null,
   "id": "e281561b",
   "metadata": {},
   "outputs": [],
   "source": [
    "def quiz_setter(state: AppState) -> AppState:\n",
    "    \"\"\"퀴즈 문항 설정\"\"\"\n",
    "    pass\n",
    "\n",
    "def continue_quiz_condition(state: AppState) -> str:\n",
    "    \"\"\"퀴즈 계속/채점 분기 키 일치\"\"\"\n",
    "    questions = state.get(\"questions\", [])\n",
    "    quiz_index = state.get(\"quiz_index\", 0)\n",
    "    if quiz_index < len(questions):\n",
    "        return \"continue_quiz\"\n",
    "    else:\n",
    "        return \"grade_quiz\"\n",
    "\n",
    "def quiz_popper(state: AppState) -> AppState:\n",
    "    \"\"\"현재 문제 출력\"\"\"\n",
    "    pass\n",
    "\n",
    "def answer_collector(state: AppState) -> AppState:\n",
    "    \"\"\"답변 수집 및 다음 인덱스\"\"\"\n",
    "    pass\n",
    "\n",
    "def grading_prompter(state: AppState) -> AppState:\n",
    "    \"\"\"채점 프롬프트 생성\"\"\"\n",
    "    pass\n",
    "\n",
    "def grade_reporter(state: AppState) -> AppState:\n",
    "    \"\"\"LLM 채점 → FinalReport 파싱\"\"\"\n",
    "    pass\n",
    "\n",
    "def report_formatter(state: AppState) -> AppState:\n",
    "    \"\"\"FinalReport → 사람이 읽을 수 있는 텍스트\"\"\"\n",
    "    pass\n"
   ]
  },
  {
   "cell_type": "markdown",
   "id": "7564d05d",
   "metadata": {},
   "source": [
    "### 채점 결과 리포트 노드 함수 (`report.py`)"
   ]
  },
  {
   "cell_type": "code",
   "execution_count": null,
   "id": "240ac807",
   "metadata": {},
   "outputs": [],
   "source": [
    "def grade_report_saver(state: AppState) -> AppState:\n",
    "    \"\"\"채점 결과 DB 저장 (숫자 집계로 저장)\"\"\"\n",
    "    pass\n",
    "\n",
    "def report_request_parser(state: AppState) -> AppState:\n",
    "    \"\"\"리포트 요청 파싱\"\"\"\n",
    "    pass\n",
    "\n",
    "def report_generater(state: AppState) -> AppState:\n",
    "    \"\"\"요청 조건에 맞는 리포트 생성\"\"\"\n",
    "    pass\n"
   ]
  },
  {
   "cell_type": "markdown",
   "id": "f801a8a1",
   "metadata": {},
   "source": [
    "### 사용자 역할에 따른 라우팅 처리 노드 함수 (`routing.py`)"
   ]
  },
  {
   "cell_type": "code",
   "execution_count": null,
   "id": "17782975",
   "metadata": {},
   "outputs": [],
   "source": [
    "def entry_router(state: AppState) -> str:\n",
    "    \"\"\"역할 분류 및 진입점 라우터\"\"\"\n",
    "    pass\n",
    "\n",
    "def entry_helper(state: AppState) -> AppState:\n",
    "    \"\"\"알 수 없는 역할에 대한 도움말\"\"\"\n",
    "    pass"
   ]
  },
  {
   "cell_type": "markdown",
   "id": "ab7b7b10",
   "metadata": {},
   "source": [
    "## 노드 함수 연결 및 그래프 생성 (`graph.py`)"
   ]
  },
  {
   "cell_type": "code",
   "execution_count": null,
   "id": "8fdcd320",
   "metadata": {},
   "outputs": [],
   "source": [
    "from langgraph.graph import StateGraph, END\n",
    "\n",
    "graph = StateGraph(AppState)\n",
    "\n",
    "# 노드 추가\n",
    "graph.add_node(\"entry_helper\", entry_helper)\n",
    "graph.add_node(\"applicant_validator\", applicant_validator)\n",
    "graph.add_node(\"quiz_setter\", quiz_setter)\n",
    "graph.add_node(\"quiz_popper\", quiz_popper)\n",
    "graph.add_node(\"answer_collector\", answer_collector)\n",
    "graph.add_node(\"grading_prompter\", grading_prompter)\n",
    "graph.add_node(\"grade_reporter\", grade_reporter)\n",
    "graph.add_node(\"grade_report_saver\", grade_report_saver)\n",
    "graph.add_node(\"report_formatter\", report_formatter)\n",
    "graph.add_node(\"report_request_parser\", report_request_parser)\n",
    "graph.add_node(\"report_generater\", report_generater)\n",
    "\n",
    "# 조건부 엔트리\n",
    "graph.set_conditional_entry_point(\n",
    "    entry_router,\n",
    "    {\n",
    "        \"quiz_entry\": \"quiz_setter\",\n",
    "        \"answer_entry\": \"answer_collector\",\n",
    "        \"student_entry\": \"applicant_validator\",\n",
    "        \"professor_entry\": \"report_request_parser\",\n",
    "        \"unknown_entry\": \"entry_helper\",\n",
    "    },\n",
    ")\n",
    "\n",
    "# 엣지\n",
    "graph.add_edge(\"quiz_setter\", \"quiz_popper\")\n",
    "graph.add_edge(\"quiz_popper\", END)  # 문제 출력 후 턴 종료\n",
    "graph.add_edge(\"entry_helper\", END)\n",
    "\n",
    "graph.add_conditional_edges(\n",
    "    \"answer_collector\",\n",
    "    continue_quiz_condition,\n",
    "    {\"continue_quiz\": \"quiz_popper\", \"grade_quiz\": \"grading_prompter\"},\n",
    ")\n",
    "graph.add_edge(\"grading_prompter\", \"grade_reporter\")\n",
    "graph.add_edge(\"grade_reporter\", \"grade_report_saver\")\n",
    "graph.add_edge(\"grade_report_saver\", \"report_formatter\")\n",
    "graph.add_edge(\"report_request_parser\", \"report_generater\")\n",
    "graph.add_edge(\"report_formatter\", END)\n",
    "graph.add_edge(\"report_generater\", END)\n",
    "\n",
    "workflow = graph.compile()\n"
   ]
  },
  {
   "cell_type": "markdown",
   "id": "56a3dea9",
   "metadata": {},
   "source": [
    "### 그래프 시각화"
   ]
  },
  {
   "cell_type": "code",
   "execution_count": null,
   "id": "c59c7cd2",
   "metadata": {},
   "outputs": [],
   "source": [
    "from langchain_teddynote.graphs import visualize_graph\n",
    "\n",
    "visualize_graph(workflow)"
   ]
  }
 ],
 "metadata": {
  "kernelspec": {
   "display_name": "venv",
   "language": "python",
   "name": "python3"
  },
  "language_info": {
   "codemirror_mode": {
    "name": "ipython",
    "version": 3
   },
   "file_extension": ".py",
   "mimetype": "text/x-python",
   "name": "python",
   "nbconvert_exporter": "python",
   "pygments_lexer": "ipython3",
   "version": "3.12.3"
  }
 },
 "nbformat": 4,
 "nbformat_minor": 5
}
